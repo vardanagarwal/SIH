{
  "nbformat": 4,
  "nbformat_minor": 0,
  "metadata": {
    "colab": {
      "name": "clustering_images.ipynb",
      "provenance": [],
      "machine_shape": "hm",
      "authorship_tag": "ABX9TyPd7kQkbyBjK/NEm3J4+Cw8",
      "include_colab_link": true
    },
    "kernelspec": {
      "name": "python3",
      "display_name": "Python 3"
    },
    "accelerator": "GPU"
  },
  "cells": [
    {
      "cell_type": "markdown",
      "metadata": {
        "id": "view-in-github",
        "colab_type": "text"
      },
      "source": [
        "<a href=\"https://colab.research.google.com/github/vardanagarwal/SIH/blob/master/clustering_images.ipynb\" target=\"_parent\"><img src=\"https://colab.research.google.com/assets/colab-badge.svg\" alt=\"Open In Colab\"/></a>"
      ]
    },
    {
      "cell_type": "code",
      "metadata": {
        "id": "6q7rTHtdKn0F",
        "colab_type": "code",
        "outputId": "2aeca921-1c82-4c45-fc57-6a67a034fd5c",
        "colab": {
          "base_uri": "https://localhost:8080/",
          "height": 54
        }
      },
      "source": [
        "from google.colab import drive\n",
        "drive.mount('/content/drive')"
      ],
      "execution_count": 1,
      "outputs": [
        {
          "output_type": "stream",
          "text": [
            "Drive already mounted at /content/drive; to attempt to forcibly remount, call drive.mount(\"/content/drive\", force_remount=True).\n"
          ],
          "name": "stdout"
        }
      ]
    },
    {
      "cell_type": "code",
      "metadata": {
        "id": "Xe6RfzBdLOhr",
        "colab_type": "code",
        "colab": {}
      },
      "source": [
        "import zipfile\n",
        "zf = zipfile.ZipFile('/content/drive/My Drive/data/csv_files.zip', \"r\")\n",
        "zf.extractall()"
      ],
      "execution_count": 0,
      "outputs": []
    },
    {
      "cell_type": "code",
      "metadata": {
        "id": "uKGj9qvMNwX5",
        "colab_type": "code",
        "colab": {}
      },
      "source": [
        "import pandas as pd\n",
        "from sklearn.cluster import KMeans\n",
        "from sklearn import metrics \n",
        "from scipy.spatial.distance import cdist \n",
        "from sklearn.decomposition import PCA\n",
        "import matplotlib.pyplot as plt\n",
        "import numpy as np"
      ],
      "execution_count": 0,
      "outputs": []
    },
    {
      "cell_type": "code",
      "metadata": {
        "id": "qsn2B34wytNe",
        "colab_type": "code",
        "colab": {}
      },
      "source": [
        "df = pd.read_csv('sky_normalization_for_clustering.csv')\n",
        "df1 = df.iloc[:, 2:]"
      ],
      "execution_count": 0,
      "outputs": []
    },
    {
      "cell_type": "code",
      "metadata": {
        "id": "V5-Y4RmBov13",
        "colab_type": "code",
        "colab": {}
      },
      "source": [
        "def Elbow(X):\n",
        "  inertias = [] \n",
        "  mapping = {} \n",
        "  K = range(1,10) \n",
        "    \n",
        "  for k in K: \n",
        "      #Building and fitting the model \n",
        "      model = KMeans(n_clusters=k).fit(X) \n",
        "      model.fit(X)     \n",
        "      inertias.append(model.inertia_) \n",
        "      mapping[k] = model.inertia_ \n",
        "      \n",
        "  for key,val in mapping.items(): \n",
        "      print(str(key)+' : '+str(val))\n",
        "  plt.figure() \n",
        "  plt.plot(K, inertias, 'bx-') \n",
        "  plt.xlabel('Values of K') \n",
        "  plt.ylabel('Inertia') \n",
        "  plt.title('The Elbow Method using Inertia') \n",
        "  plt.show()"
      ],
      "execution_count": 0,
      "outputs": []
    },
    {
      "cell_type": "markdown",
      "metadata": {
        "id": "t9cOtBLmIWDj",
        "colab_type": "text"
      },
      "source": [
        "#First level KMeans"
      ]
    },
    {
      "cell_type": "code",
      "metadata": {
        "id": "g3NxovuSoxU_",
        "colab_type": "code",
        "colab": {
          "base_uri": "https://localhost:8080/",
          "height": 448
        },
        "outputId": "bbb247ca-b879-443b-d75e-af286c97961c"
      },
      "source": [
        "Elbow(df1)"
      ],
      "execution_count": 4,
      "outputs": [
        {
          "output_type": "stream",
          "text": [
            "1 : 53651.60628999139\n",
            "2 : 12856.764812077212\n",
            "3 : 9762.545636223038\n",
            "4 : 7274.619535323133\n",
            "5 : 6290.065959642681\n",
            "6 : 5468.254899566658\n",
            "7 : 4898.951554994039\n",
            "8 : 4353.904055471647\n",
            "9 : 3909.7195844455796\n"
          ],
          "name": "stdout"
        },
        {
          "output_type": "display_data",
          "data": {
            "image/png": "[encoded data removed]",
            "text/plain": [
              "<Figure size 432x288 with 1 Axes>"
            ]
          },
          "metadata": {
            "tags": []
          }
        }
      ]
    },
    {
      "cell_type": "code",
      "metadata": {
        "id": "9txpHiqVOpn4",
        "colab_type": "code",
        "outputId": "e6b33f7f-b2f9-4d92-ac57-ef7f9266ca88",
        "colab": {
          "base_uri": "https://localhost:8080/",
          "height": 265
        }
      },
      "source": [
        "kmeans = KMeans(n_clusters=2, init='k-means++')\n",
        "y = kmeans.fit_predict(df1)\n",
        "pca = PCA(n_components=2).fit_transform(df1)\n",
        "plt.figure('Kmeans with 2 clusters')\n",
        "plt.scatter(pca[:, 0], pca[:, 1], c=kmeans.labels_)\n",
        "plt.show()\n",
        "df_temp = pd.DataFrame(kmeans.labels_)\n",
        "df_temp.columns = ['labels']\n",
        "df2 = pd.concat([df.iloc[:, 0:2], df_temp], axis=1)"
      ],
      "execution_count": 5,
      "outputs": [
        {
          "output_type": "display_data",
          "data": {
            "image/png": "[encoded data removed]",
            "text/plain": [
              "<Figure size 432x288 with 1 Axes>"
            ]
          },
          "metadata": {
            "tags": []
          }
        }
      ]
    },
    {
      "cell_type": "code",
      "metadata": {
        "id": "IzRAXD7WlDu9",
        "colab_type": "code",
        "colab": {}
      },
      "source": [
        "df2.to_csv('kmeans_clustered.csv', index=False)"
      ],
      "execution_count": 0,
      "outputs": []
    },
    {
      "cell_type": "markdown",
      "metadata": {
        "id": "iKA8--5M1z3W",
        "colab_type": "text"
      },
      "source": [
        "#Second level KMeans"
      ]
    },
    {
      "cell_type": "code",
      "metadata": {
        "id": "67wFugPJ1TxX",
        "colab_type": "code",
        "colab": {
          "base_uri": "https://localhost:8080/",
          "height": 419
        },
        "outputId": "39f5ab54-f95e-4c21-a7fb-439d8035a48a"
      },
      "source": [
        "df3 = pd.concat([df, df_temp], axis=1)\n",
        "df_zero = df3[df3['labels'] == 0]\n",
        "df_one = df3[df3['labels'] == 1]\n",
        "df_zero.reset_index(inplace=True)\n",
        "df_one.reset_index(inplace=True)\n",
        "df_zero1 = df_zero.iloc[:, 3:-1]\n",
        "df_one1 = df_one.iloc[:, 3:-1]\n",
        "df_one1"
      ],
      "execution_count": 21,
      "outputs": [
        {
          "output_type": "execute_result",
          "data": {
            "text/html": [
              "<div>\n",
              "<style scoped>\n",
              "    .dataframe tbody tr th:only-of-type {\n",
              "        vertical-align: middle;\n",
              "    }\n",
              "\n",
              "    .dataframe tbody tr th {\n",
              "        vertical-align: top;\n",
              "    }\n",
              "\n",
              "    .dataframe thead th {\n",
              "        text-align: right;\n",
              "    }\n",
              "</style>\n",
              "<table border=\"1\" class=\"dataframe\">\n",
              "  <thead>\n",
              "    <tr style=\"text-align: right;\">\n",
              "      <th></th>\n",
              "      <th>r</th>\n",
              "      <th>g</th>\n",
              "      <th>b</th>\n",
              "      <th>h</th>\n",
              "      <th>s</th>\n",
              "      <th>v</th>\n",
              "      <th>y</th>\n",
              "      <th>cr</th>\n",
              "      <th>cb</th>\n",
              "    </tr>\n",
              "  </thead>\n",
              "  <tbody>\n",
              "    <tr>\n",
              "      <th>0</th>\n",
              "      <td>0.324184</td>\n",
              "      <td>0.359367</td>\n",
              "      <td>0.438620</td>\n",
              "      <td>0.600741</td>\n",
              "      <td>0.294341</td>\n",
              "      <td>0.445307</td>\n",
              "      <td>0.357870</td>\n",
              "      <td>0.477874</td>\n",
              "      <td>0.547593</td>\n",
              "    </tr>\n",
              "    <tr>\n",
              "      <th>1</th>\n",
              "      <td>0.331516</td>\n",
              "      <td>0.298271</td>\n",
              "      <td>0.324695</td>\n",
              "      <td>0.828404</td>\n",
              "      <td>0.130150</td>\n",
              "      <td>0.339946</td>\n",
              "      <td>0.311235</td>\n",
              "      <td>0.516502</td>\n",
              "      <td>0.509446</td>\n",
              "    </tr>\n",
              "    <tr>\n",
              "      <th>2</th>\n",
              "      <td>0.413949</td>\n",
              "      <td>0.278540</td>\n",
              "      <td>0.255060</td>\n",
              "      <td>0.025228</td>\n",
              "      <td>0.388530</td>\n",
              "      <td>0.413955</td>\n",
              "      <td>0.316100</td>\n",
              "      <td>0.571706</td>\n",
              "      <td>0.467524</td>\n",
              "    </tr>\n",
              "    <tr>\n",
              "      <th>3</th>\n",
              "      <td>0.454830</td>\n",
              "      <td>0.303032</td>\n",
              "      <td>0.285516</td>\n",
              "      <td>0.024628</td>\n",
              "      <td>0.376457</td>\n",
              "      <td>0.454842</td>\n",
              "      <td>0.346492</td>\n",
              "      <td>0.579303</td>\n",
              "      <td>0.467548</td>\n",
              "    </tr>\n",
              "    <tr>\n",
              "      <th>4</th>\n",
              "      <td>0.383929</td>\n",
              "      <td>0.173407</td>\n",
              "      <td>0.167107</td>\n",
              "      <td>0.112183</td>\n",
              "      <td>0.573534</td>\n",
              "      <td>0.383944</td>\n",
              "      <td>0.235625</td>\n",
              "      <td>0.607901</td>\n",
              "      <td>0.463159</td>\n",
              "    </tr>\n",
              "    <tr>\n",
              "      <th>...</th>\n",
              "      <td>...</td>\n",
              "      <td>...</td>\n",
              "      <td>...</td>\n",
              "      <td>...</td>\n",
              "      <td>...</td>\n",
              "      <td>...</td>\n",
              "      <td>...</td>\n",
              "      <td>...</td>\n",
              "      <td>...</td>\n",
              "    </tr>\n",
              "    <tr>\n",
              "      <th>33817</th>\n",
              "      <td>0.177668</td>\n",
              "      <td>0.177668</td>\n",
              "      <td>0.177668</td>\n",
              "      <td>0.000000</td>\n",
              "      <td>0.000000</td>\n",
              "      <td>0.177668</td>\n",
              "      <td>0.177668</td>\n",
              "      <td>0.501961</td>\n",
              "      <td>0.501961</td>\n",
              "    </tr>\n",
              "    <tr>\n",
              "      <th>33818</th>\n",
              "      <td>0.184129</td>\n",
              "      <td>0.184129</td>\n",
              "      <td>0.184129</td>\n",
              "      <td>0.000000</td>\n",
              "      <td>0.000000</td>\n",
              "      <td>0.184129</td>\n",
              "      <td>0.184129</td>\n",
              "      <td>0.501961</td>\n",
              "      <td>0.501961</td>\n",
              "    </tr>\n",
              "    <tr>\n",
              "      <th>33819</th>\n",
              "      <td>0.234380</td>\n",
              "      <td>0.234380</td>\n",
              "      <td>0.234380</td>\n",
              "      <td>0.000000</td>\n",
              "      <td>0.000000</td>\n",
              "      <td>0.234380</td>\n",
              "      <td>0.234380</td>\n",
              "      <td>0.501961</td>\n",
              "      <td>0.501961</td>\n",
              "    </tr>\n",
              "    <tr>\n",
              "      <th>33820</th>\n",
              "      <td>0.344124</td>\n",
              "      <td>0.344124</td>\n",
              "      <td>0.344124</td>\n",
              "      <td>0.000000</td>\n",
              "      <td>0.000000</td>\n",
              "      <td>0.344124</td>\n",
              "      <td>0.344124</td>\n",
              "      <td>0.501961</td>\n",
              "      <td>0.501961</td>\n",
              "    </tr>\n",
              "    <tr>\n",
              "      <th>33821</th>\n",
              "      <td>0.292498</td>\n",
              "      <td>0.292498</td>\n",
              "      <td>0.292498</td>\n",
              "      <td>0.000000</td>\n",
              "      <td>0.000000</td>\n",
              "      <td>0.292498</td>\n",
              "      <td>0.292498</td>\n",
              "      <td>0.501961</td>\n",
              "      <td>0.501961</td>\n",
              "    </tr>\n",
              "  </tbody>\n",
              "</table>\n",
              "<p>33822 rows × 9 columns</p>\n",
              "</div>"
            ],
            "text/plain": [
              "              r         g         b  ...         y        cr        cb\n",
              "0      0.324184  0.359367  0.438620  ...  0.357870  0.477874  0.547593\n",
              "1      0.331516  0.298271  0.324695  ...  0.311235  0.516502  0.509446\n",
              "2      0.413949  0.278540  0.255060  ...  0.316100  0.571706  0.467524\n",
              "3      0.454830  0.303032  0.285516  ...  0.346492  0.579303  0.467548\n",
              "4      0.383929  0.173407  0.167107  ...  0.235625  0.607901  0.463159\n",
              "...         ...       ...       ...  ...       ...       ...       ...\n",
              "33817  0.177668  0.177668  0.177668  ...  0.177668  0.501961  0.501961\n",
              "33818  0.184129  0.184129  0.184129  ...  0.184129  0.501961  0.501961\n",
              "33819  0.234380  0.234380  0.234380  ...  0.234380  0.501961  0.501961\n",
              "33820  0.344124  0.344124  0.344124  ...  0.344124  0.501961  0.501961\n",
              "33821  0.292498  0.292498  0.292498  ...  0.292498  0.501961  0.501961\n",
              "\n",
              "[33822 rows x 9 columns]"
            ]
          },
          "metadata": {
            "tags": []
          },
          "execution_count": 21
        }
      ]
    },
    {
      "cell_type": "code",
      "metadata": {
        "id": "cUWanDgu5qzd",
        "colab_type": "code",
        "colab": {
          "base_uri": "https://localhost:8080/",
          "height": 879
        },
        "outputId": "89136a6e-9ee9-496f-be84-51ffb0547077"
      },
      "source": [
        "Elbow(df_zero1)\n",
        "Elbow(df_one1)"
      ],
      "execution_count": 22,
      "outputs": [
        {
          "output_type": "stream",
          "text": [
            "1 : 6739.931768372577\n",
            "2 : 3768.712124989624\n",
            "3 : 2879.8591930066646\n",
            "4 : 2354.950518945806\n",
            "5 : 1927.5377825266007\n",
            "6 : 1661.454848230351\n",
            "7 : 1511.9560952441436\n",
            "8 : 1370.9531591638004\n",
            "9 : 1247.6228926205865\n"
          ],
          "name": "stdout"
        },
        {
          "output_type": "display_data",
          "data": {
            "image/png": "[encoded data removed]",
            "text/plain": [
              "<Figure size 432x288 with 1 Axes>"
            ]
          },
          "metadata": {
            "tags": []
          }
        },
        {
          "output_type": "stream",
          "text": [
            "1 : 6116.832924791049\n",
            "2 : 3597.300576355562\n",
            "3 : 2752.609862935858\n",
            "4 : 2146.2099754152323\n",
            "5 : 1731.2647576572276\n",
            "6 : 1481.2560965381954\n",
            "7 : 1299.7988821874678\n",
            "8 : 1133.3493825246699\n",
            "9 : 1002.2276903334553\n"
          ],
          "name": "stdout"
        },
        {
          "output_type": "display_data",
          "data": {
            "image/png": "[encoded data removed]",
            "text/plain": [
              "<Figure size 432x288 with 1 Axes>"
            ]
          },
          "metadata": {
            "tags": []
          }
        }
      ]
    },
    {
      "cell_type": "code",
      "metadata": {
        "id": "tpPTYdcT7qCY",
        "colab_type": "code",
        "colab": {
          "base_uri": "https://localhost:8080/",
          "height": 265
        },
        "outputId": "88f5d855-a881-459e-f8f4-fe2c81641ccd"
      },
      "source": [
        "kmeans = KMeans(n_clusters=2, init='k-means++')\n",
        "y = kmeans.fit_predict(df_zero1)\n",
        "pca = PCA(n_components=2).fit_transform(df_zero1)\n",
        "plt.figure('Kmeans with 2 clusters')\n",
        "plt.scatter(pca[:, 0], pca[:, 1], c=kmeans.labels_)\n",
        "plt.show()\n",
        "df_temp = pd.DataFrame(kmeans.labels_)\n",
        "df_temp.columns = ['labels']\n",
        "df_zero2 = pd.concat([df_zero.iloc[:, 0:1], df_temp], axis=1)"
      ],
      "execution_count": 27,
      "outputs": [
        {
          "output_type": "display_data",
          "data": {
            "image/png": "[encoded data removed]",
            "text/plain": [
              "<Figure size 432x288 with 1 Axes>"
            ]
          },
          "metadata": {
            "tags": []
          }
        }
      ]
    },
    {
      "cell_type": "code",
      "metadata": {
        "id": "CGSJq8ug_iU6",
        "colab_type": "code",
        "colab": {
          "base_uri": "https://localhost:8080/",
          "height": 419
        },
        "outputId": "c2b60292-d611-4f49-ed14-8ff92a9774da"
      },
      "source": [
        "df_zero2"
      ],
      "execution_count": 28,
      "outputs": [
        {
          "output_type": "execute_result",
          "data": {
            "text/html": [
              "<div>\n",
              "<style scoped>\n",
              "    .dataframe tbody tr th:only-of-type {\n",
              "        vertical-align: middle;\n",
              "    }\n",
              "\n",
              "    .dataframe tbody tr th {\n",
              "        vertical-align: top;\n",
              "    }\n",
              "\n",
              "    .dataframe thead th {\n",
              "        text-align: right;\n",
              "    }\n",
              "</style>\n",
              "<table border=\"1\" class=\"dataframe\">\n",
              "  <thead>\n",
              "    <tr style=\"text-align: right;\">\n",
              "      <th></th>\n",
              "      <th>index</th>\n",
              "      <th>labels</th>\n",
              "    </tr>\n",
              "  </thead>\n",
              "  <tbody>\n",
              "    <tr>\n",
              "      <th>0</th>\n",
              "      <td>0</td>\n",
              "      <td>0</td>\n",
              "    </tr>\n",
              "    <tr>\n",
              "      <th>1</th>\n",
              "      <td>1</td>\n",
              "      <td>0</td>\n",
              "    </tr>\n",
              "    <tr>\n",
              "      <th>2</th>\n",
              "      <td>2</td>\n",
              "      <td>1</td>\n",
              "    </tr>\n",
              "    <tr>\n",
              "      <th>3</th>\n",
              "      <td>3</td>\n",
              "      <td>1</td>\n",
              "    </tr>\n",
              "    <tr>\n",
              "      <th>4</th>\n",
              "      <td>4</td>\n",
              "      <td>1</td>\n",
              "    </tr>\n",
              "    <tr>\n",
              "      <th>...</th>\n",
              "      <td>...</td>\n",
              "      <td>...</td>\n",
              "    </tr>\n",
              "    <tr>\n",
              "      <th>48166</th>\n",
              "      <td>81983</td>\n",
              "      <td>0</td>\n",
              "    </tr>\n",
              "    <tr>\n",
              "      <th>48167</th>\n",
              "      <td>81984</td>\n",
              "      <td>0</td>\n",
              "    </tr>\n",
              "    <tr>\n",
              "      <th>48168</th>\n",
              "      <td>81985</td>\n",
              "      <td>0</td>\n",
              "    </tr>\n",
              "    <tr>\n",
              "      <th>48169</th>\n",
              "      <td>81989</td>\n",
              "      <td>1</td>\n",
              "    </tr>\n",
              "    <tr>\n",
              "      <th>48170</th>\n",
              "      <td>81990</td>\n",
              "      <td>0</td>\n",
              "    </tr>\n",
              "  </tbody>\n",
              "</table>\n",
              "<p>48171 rows × 2 columns</p>\n",
              "</div>"
            ],
            "text/plain": [
              "       index  labels\n",
              "0          0       0\n",
              "1          1       0\n",
              "2          2       1\n",
              "3          3       1\n",
              "4          4       1\n",
              "...      ...     ...\n",
              "48166  81983       0\n",
              "48167  81984       0\n",
              "48168  81985       0\n",
              "48169  81989       1\n",
              "48170  81990       0\n",
              "\n",
              "[48171 rows x 2 columns]"
            ]
          },
          "metadata": {
            "tags": []
          },
          "execution_count": 28
        }
      ]
    },
    {
      "cell_type": "code",
      "metadata": {
        "id": "1BYWtX9y8TIW",
        "colab_type": "code",
        "colab": {
          "base_uri": "https://localhost:8080/",
          "height": 265
        },
        "outputId": "6220e806-5bdb-4610-cdb6-6e4a95154fb8"
      },
      "source": [
        "kmeans = KMeans(n_clusters=2, init='k-means++')\n",
        "y = kmeans.fit_predict(df_one1)\n",
        "pca = PCA(n_components=2).fit_transform(df_one1)\n",
        "plt.figure('Kmeans with 2 clusters')\n",
        "plt.scatter(pca[:, 0], pca[:, 1], c=kmeans.labels_)\n",
        "plt.show()\n",
        "df_temp = pd.DataFrame(kmeans.labels_)\n",
        "df_temp.columns = ['labels']\n",
        "df_temp.replace(0, 2, inplace=True)\n",
        "df_temp.replace(1, 3, inplace=True)\n",
        "df_one2 = pd.concat([df_one.iloc[:, 0:1], df_temp], axis=1)"
      ],
      "execution_count": 33,
      "outputs": [
        {
          "output_type": "display_data",
          "data": {
            "image/png": "[encoded data removed]",
            "text/plain": [
              "<Figure size 432x288 with 1 Axes>"
            ]
          },
          "metadata": {
            "tags": []
          }
        }
      ]
    },
    {
      "cell_type": "code",
      "metadata": {
        "id": "Xp2ii1Bi8vbu",
        "colab_type": "code",
        "colab": {
          "base_uri": "https://localhost:8080/",
          "height": 419
        },
        "outputId": "5cea9bb3-5b80-4d94-c7e9-be2f54579194"
      },
      "source": [
        "df_one2"
      ],
      "execution_count": 34,
      "outputs": [
        {
          "output_type": "execute_result",
          "data": {
            "text/html": [
              "<div>\n",
              "<style scoped>\n",
              "    .dataframe tbody tr th:only-of-type {\n",
              "        vertical-align: middle;\n",
              "    }\n",
              "\n",
              "    .dataframe tbody tr th {\n",
              "        vertical-align: top;\n",
              "    }\n",
              "\n",
              "    .dataframe thead th {\n",
              "        text-align: right;\n",
              "    }\n",
              "</style>\n",
              "<table border=\"1\" class=\"dataframe\">\n",
              "  <thead>\n",
              "    <tr style=\"text-align: right;\">\n",
              "      <th></th>\n",
              "      <th>index</th>\n",
              "      <th>labels</th>\n",
              "    </tr>\n",
              "  </thead>\n",
              "  <tbody>\n",
              "    <tr>\n",
              "      <th>0</th>\n",
              "      <td>15</td>\n",
              "      <td>2</td>\n",
              "    </tr>\n",
              "    <tr>\n",
              "      <th>1</th>\n",
              "      <td>60</td>\n",
              "      <td>2</td>\n",
              "    </tr>\n",
              "    <tr>\n",
              "      <th>2</th>\n",
              "      <td>95</td>\n",
              "      <td>3</td>\n",
              "    </tr>\n",
              "    <tr>\n",
              "      <th>3</th>\n",
              "      <td>100</td>\n",
              "      <td>3</td>\n",
              "    </tr>\n",
              "    <tr>\n",
              "      <th>4</th>\n",
              "      <td>135</td>\n",
              "      <td>3</td>\n",
              "    </tr>\n",
              "    <tr>\n",
              "      <th>...</th>\n",
              "      <td>...</td>\n",
              "      <td>...</td>\n",
              "    </tr>\n",
              "    <tr>\n",
              "      <th>33817</th>\n",
              "      <td>81986</td>\n",
              "      <td>3</td>\n",
              "    </tr>\n",
              "    <tr>\n",
              "      <th>33818</th>\n",
              "      <td>81987</td>\n",
              "      <td>3</td>\n",
              "    </tr>\n",
              "    <tr>\n",
              "      <th>33819</th>\n",
              "      <td>81988</td>\n",
              "      <td>3</td>\n",
              "    </tr>\n",
              "    <tr>\n",
              "      <th>33820</th>\n",
              "      <td>81991</td>\n",
              "      <td>3</td>\n",
              "    </tr>\n",
              "    <tr>\n",
              "      <th>33821</th>\n",
              "      <td>81992</td>\n",
              "      <td>3</td>\n",
              "    </tr>\n",
              "  </tbody>\n",
              "</table>\n",
              "<p>33822 rows × 2 columns</p>\n",
              "</div>"
            ],
            "text/plain": [
              "       index  labels\n",
              "0         15       2\n",
              "1         60       2\n",
              "2         95       3\n",
              "3        100       3\n",
              "4        135       3\n",
              "...      ...     ...\n",
              "33817  81986       3\n",
              "33818  81987       3\n",
              "33819  81988       3\n",
              "33820  81991       3\n",
              "33821  81992       3\n",
              "\n",
              "[33822 rows x 2 columns]"
            ]
          },
          "metadata": {
            "tags": []
          },
          "execution_count": 34
        }
      ]
    },
    {
      "cell_type": "markdown",
      "metadata": {
        "id": "SdPjJRe4BXY_",
        "colab_type": "text"
      },
      "source": [
        "#Merging"
      ]
    },
    {
      "cell_type": "code",
      "metadata": {
        "id": "2gOfyhdMBWHJ",
        "colab_type": "code",
        "colab": {}
      },
      "source": [
        "df_zero2 = df_zero2.set_index('index')\n",
        "df_one2 = df_one2.set_index('index')"
      ],
      "execution_count": 0,
      "outputs": []
    },
    {
      "cell_type": "code",
      "metadata": {
        "id": "V9ak_HjKDafk",
        "colab_type": "code",
        "colab": {}
      },
      "source": [
        "df_done = pd.concat([df_zero2, df_one2])\n",
        "df2.insert(3, 'Div_labels', df_done.iloc[:, :])"
      ],
      "execution_count": 0,
      "outputs": []
    },
    {
      "cell_type": "code",
      "metadata": {
        "id": "sv0djG0hETB4",
        "colab_type": "code",
        "colab": {
          "base_uri": "https://localhost:8080/",
          "height": 419
        },
        "outputId": "c7f0851f-cb68-4be5-f1a7-302c3f1222da"
      },
      "source": [
        "df2"
      ],
      "execution_count": 41,
      "outputs": [
        {
          "output_type": "execute_result",
          "data": {
            "text/html": [
              "<div>\n",
              "<style scoped>\n",
              "    .dataframe tbody tr th:only-of-type {\n",
              "        vertical-align: middle;\n",
              "    }\n",
              "\n",
              "    .dataframe tbody tr th {\n",
              "        vertical-align: top;\n",
              "    }\n",
              "\n",
              "    .dataframe thead th {\n",
              "        text-align: right;\n",
              "    }\n",
              "</style>\n",
              "<table border=\"1\" class=\"dataframe\">\n",
              "  <thead>\n",
              "    <tr style=\"text-align: right;\">\n",
              "      <th></th>\n",
              "      <th>cam_id</th>\n",
              "      <th>filename</th>\n",
              "      <th>labels</th>\n",
              "      <th>Div_labels</th>\n",
              "    </tr>\n",
              "  </thead>\n",
              "  <tbody>\n",
              "    <tr>\n",
              "      <th>0</th>\n",
              "      <td>10066</td>\n",
              "      <td>20130101_084634.jpg</td>\n",
              "      <td>0</td>\n",
              "      <td>0</td>\n",
              "    </tr>\n",
              "    <tr>\n",
              "      <th>1</th>\n",
              "      <td>10066</td>\n",
              "      <td>20130101_091628.jpg</td>\n",
              "      <td>0</td>\n",
              "      <td>0</td>\n",
              "    </tr>\n",
              "    <tr>\n",
              "      <th>2</th>\n",
              "      <td>10066</td>\n",
              "      <td>20130101_114638.jpg</td>\n",
              "      <td>0</td>\n",
              "      <td>1</td>\n",
              "    </tr>\n",
              "    <tr>\n",
              "      <th>3</th>\n",
              "      <td>10066</td>\n",
              "      <td>20130101_125725.jpg</td>\n",
              "      <td>0</td>\n",
              "      <td>1</td>\n",
              "    </tr>\n",
              "    <tr>\n",
              "      <th>4</th>\n",
              "      <td>10066</td>\n",
              "      <td>20130101_154632.jpg</td>\n",
              "      <td>0</td>\n",
              "      <td>1</td>\n",
              "    </tr>\n",
              "    <tr>\n",
              "      <th>...</th>\n",
              "      <td>...</td>\n",
              "      <td>...</td>\n",
              "      <td>...</td>\n",
              "      <td>...</td>\n",
              "    </tr>\n",
              "    <tr>\n",
              "      <th>81988</th>\n",
              "      <td>9730</td>\n",
              "      <td>20131231_052708.jpg</td>\n",
              "      <td>1</td>\n",
              "      <td>3</td>\n",
              "    </tr>\n",
              "    <tr>\n",
              "      <th>81989</th>\n",
              "      <td>9730</td>\n",
              "      <td>20131231_095706.jpg</td>\n",
              "      <td>0</td>\n",
              "      <td>1</td>\n",
              "    </tr>\n",
              "    <tr>\n",
              "      <th>81990</th>\n",
              "      <td>9730</td>\n",
              "      <td>20131231_105659.jpg</td>\n",
              "      <td>0</td>\n",
              "      <td>0</td>\n",
              "    </tr>\n",
              "    <tr>\n",
              "      <th>81991</th>\n",
              "      <td>9730</td>\n",
              "      <td>20131231_162701.jpg</td>\n",
              "      <td>1</td>\n",
              "      <td>3</td>\n",
              "    </tr>\n",
              "    <tr>\n",
              "      <th>81992</th>\n",
              "      <td>9730</td>\n",
              "      <td>20131231_235702.jpg</td>\n",
              "      <td>1</td>\n",
              "      <td>3</td>\n",
              "    </tr>\n",
              "  </tbody>\n",
              "</table>\n",
              "<p>81993 rows × 4 columns</p>\n",
              "</div>"
            ],
            "text/plain": [
              "       cam_id             filename  labels  Div_labels\n",
              "0       10066  20130101_084634.jpg       0           0\n",
              "1       10066  20130101_091628.jpg       0           0\n",
              "2       10066  20130101_114638.jpg       0           1\n",
              "3       10066  20130101_125725.jpg       0           1\n",
              "4       10066  20130101_154632.jpg       0           1\n",
              "...       ...                  ...     ...         ...\n",
              "81988    9730  20131231_052708.jpg       1           3\n",
              "81989    9730  20131231_095706.jpg       0           1\n",
              "81990    9730  20131231_105659.jpg       0           0\n",
              "81991    9730  20131231_162701.jpg       1           3\n",
              "81992    9730  20131231_235702.jpg       1           3\n",
              "\n",
              "[81993 rows x 4 columns]"
            ]
          },
          "metadata": {
            "tags": []
          },
          "execution_count": 41
        }
      ]
    },
    {
      "cell_type": "code",
      "metadata": {
        "id": "wYgXEpD5EVgD",
        "colab_type": "code",
        "colab": {}
      },
      "source": [
        "df2.to_csv('kmeans_double_clustered.csv', index=False)"
      ],
      "execution_count": 0,
      "outputs": []
    }
  ]
}
